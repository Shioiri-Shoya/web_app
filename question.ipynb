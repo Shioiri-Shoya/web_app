{
 "cells": [
  {
   "cell_type": "markdown",
   "metadata": {},
   "source": [
    "# AI・機械学習 基礎 ステップ\n",
    "\n",
    "## Webシステム開発 ～機械学習Webアプリ構築～\n",
    "\n",
    "© 2022 LiberCraft Co.,Ltd."
   ]
  },
  {
   "cell_type": "markdown",
   "metadata": {},
   "source": [
    "## デフォルト予測モデルのWebアプリケーション構築\n",
    "\n",
    "### 以下の問題を解きなさい\n",
    "\n",
    "「ベーシック機械学習｜教師あり学習（分類問題）編 〜ローンデフォルト予測モデル構築〜」のプロジェクトにおいて、\n",
    "他のメンバーが簡単に操作できるWebアプリケーションをStreamlitを用いて構築しましょう。\n",
    "\n",
    "今回は、以下の要件・流れで実装を進めていきます。\n",
    "\n",
    "#### アプリケーションの要件\n",
    "「実行」ボタンを押すことで、以下の処理を行えるようにしてください。\n",
    "- すでに学習済みのモデル（dataset/model.pkl）を使用して、Testデータのユーザーに対して予測を行い、各ユーザーのデフォルト予測確率を算出\n",
    "- 予測確率の高い順に、「ユーザーID・予測確率」をStreamlitのUI上に表示\n",
    "- 「リセット」ボタンを押すことで、表示された予測結果をクリア\n",
    "- **個別予測機能と**して、ユーザーが「ID」を入力することで、そのIDに対応する予測確率を表示\n",
    "\n",
    "#### 実装の概要\n",
    "Streamlitは、PythonスクリプトのみでWebアプリケーションを構築できるため、HTMLやJavaScriptのコーディングは不要です。そのため、今回の演習ではFlaskなどを使用せず、Streamlitを活用してシンプルに実装します。\n",
    "\n",
    "#### 必要な機能\n",
    "メインスクリプト（app.py）の作成\n",
    "\n",
    "- st.button() を使用して「実行」と「リセット」ボタンを作成します。\n",
    "- st.file_uploader() を使用して、ユーザーがTrainデータおよびTestデータをアップロードできるようにします。\n",
    "- 学習済みのモデル（dataset/model.pkl）を読み込み、Testデータに対して予測を行います。\n",
    "- 予測結果をpandasデータフレームとして管理し、st.dataframe() を使って、予測結果を表示します。\n",
    "\n",
    "- 機械学習モデルの活用\n",
    "\n",
    "    - すでに学習されたモデル（model.pkl）を読み込んで、予測確率を計算します。\n",
    "    - 予測確率を計算した後、確率の高い順に並べ替え、IDと予測確率を表示します。\n",
    "\n",
    "- 個別予測機能\n",
    "\n",
    "    - 「ID」を入力することで、そのIDに対応する予測確率を表示します。\n",
    "    - 入力したIDに対応する予測が存在しない場合、警告を表示します。\n",
    "\n",
    "#### アプリケーションの実行と確認:\n",
    "\n",
    "- streamlit run app.py コマンドを使用してローカル環境で実行します。\n",
    "- st.write() などを活用し、出力結果を整理して表示します。\n",
    "\n",
    "#### 実行の確認方法\n",
    "ローカル環境で以下のコマンドを実行し、ブラウザでアプリを確認してください。\n",
    "\n",
    "```bash\n",
    "streamlit run app.py\n",
    "```\n",
    "\n",
    "（以下のようなメッセージが表示されるはず）\n",
    "```\n",
    "  You can now view your Streamlit app in your browser.\n",
    "  Network URL: http://xxx.xxx.xxx.xxx:8501\n",
    "```\n",
    "\n",
    "#### 提出方法\n",
    "- 実装が完了したら、Google Classroomに記載された方法の通りに提出してください。\n",
    "\n",
    "Streamlitを活用することで、簡単にインタラクティブなWebアプリを構築できます。\n",
    "学習・予測の流れを整理しながら、実装を進めていきましょう！"
   ]
  },
  {
   "cell_type": "markdown",
   "metadata": {},
   "source": [
    "---------"
   ]
  },
  {
   "cell_type": "markdown",
   "metadata": {},
   "source": [
    "#### ＜データのダウンロード＞\n",
    "\n",
    "以下のリンクをクリックすることで使用データをダウンロードできます。\n",
    "- [Download dataset](https://drive.google.com/file/d/146ukNesXoLjjpd7WYb6oCZiFINIuF1XV/view?usp=sharing)\n",
    "\n",
    "ダウンロード後に、zipファイルを解凍し、datasetフォルダを下記ディレクトリ（staticやtemplatesと同階層）に配置してください\n",
    "\n",
    "---- **dataset**\\\n",
    "　　|- train.csv\\\n",
    "　　|- test.csv\\\n",
    "---- app.py\\\n",
    "---- requirements.txt"
   ]
  }
 ],
 "metadata": {
  "kernelspec": {
   "display_name": "Python 3.9.7 ('ds_training_contents')",
   "language": "python",
   "name": "python3"
  },
  "language_info": {
   "codemirror_mode": {
    "name": "ipython",
    "version": 3
   },
   "file_extension": ".py",
   "mimetype": "text/x-python",
   "name": "python",
   "nbconvert_exporter": "python",
   "pygments_lexer": "ipython3",
   "version": "3.9.7"
  },
  "vscode": {
   "interpreter": {
    "hash": "98b76a378bbd8160f805660f481f2d9a22672cbfc3c3e047b97ffc30251319a4"
   }
  }
 },
 "nbformat": 4,
 "nbformat_minor": 2
}
